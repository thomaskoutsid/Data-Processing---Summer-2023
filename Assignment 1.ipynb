{
 "cells": [
  {
   "cell_type": "markdown",
   "id": "d769918a",
   "metadata": {},
   "source": [
    "## Task 1: Fundamentals"
   ]
  },
  {
   "cell_type": "markdown",
   "id": "ac501042",
   "metadata": {},
   "source": [
    "Create an array with a different length and two arrays of the same length after importing NumPy (3 arrays in total).\n"
   ]
  },
  {
   "cell_type": "code",
   "execution_count": 1,
   "id": "6cb3f85f",
   "metadata": {},
   "outputs": [],
   "source": [
    "import numpy as np"
   ]
  },
  {
   "cell_type": "code",
   "execution_count": 4,
   "id": "91e0eff3",
   "metadata": {},
   "outputs": [],
   "source": [
    "a = np.array([1,2,3,4,5,6,7,8,9,10])\n",
    "b = np.array([1,2,3,4,5])\n",
    "c = np.array([6,7,8,9,10])"
   ]
  },
  {
   "cell_type": "markdown",
   "id": "b185f1b7",
   "metadata": {},
   "source": [
    "Execute at least four different operations on arrays of the same size."
   ]
  },
  {
   "cell_type": "code",
   "execution_count": 6,
   "id": "69ccf32c",
   "metadata": {},
   "outputs": [
    {
     "data": {
      "text/plain": [
       "array([ 7,  9, 11, 13, 15])"
      ]
     },
     "execution_count": 6,
     "metadata": {},
     "output_type": "execute_result"
    }
   ],
   "source": [
    "b + c"
   ]
  },
  {
   "cell_type": "code",
   "execution_count": 7,
   "id": "3318a0f8",
   "metadata": {},
   "outputs": [
    {
     "data": {
      "text/plain": [
       "array([-5, -5, -5, -5, -5])"
      ]
     },
     "execution_count": 7,
     "metadata": {},
     "output_type": "execute_result"
    }
   ],
   "source": [
    "b - c"
   ]
  },
  {
   "cell_type": "code",
   "execution_count": 8,
   "id": "64b97bb6",
   "metadata": {},
   "outputs": [
    {
     "data": {
      "text/plain": [
       "array([      1,     128,    6561,  262144, 9765625])"
      ]
     },
     "execution_count": 8,
     "metadata": {},
     "output_type": "execute_result"
    }
   ],
   "source": [
    "b ** c"
   ]
  },
  {
   "cell_type": "code",
   "execution_count": 9,
   "id": "75195624",
   "metadata": {},
   "outputs": [
    {
     "data": {
      "text/plain": [
       "array([6.        , 3.5       , 2.66666667, 2.25      , 2.        ])"
      ]
     },
     "execution_count": 9,
     "metadata": {},
     "output_type": "execute_result"
    }
   ],
   "source": [
    "c / b"
   ]
  },
  {
   "cell_type": "markdown",
   "id": "56100f8e",
   "metadata": {},
   "source": [
    "Create four variables containing a string, integer, float, and boolean and try to cast them to (in order) boolean, float, integer, and string. "
   ]
  },
  {
   "cell_type": "code",
   "execution_count": 10,
   "id": "f2a52824",
   "metadata": {},
   "outputs": [],
   "source": [
    "string = \"Hello World!\"\n",
    "integer = 15\n",
    "float_var = 15.23\n",
    "boolean = True"
   ]
  },
  {
   "cell_type": "code",
   "execution_count": 39,
   "id": "da366c87",
   "metadata": {},
   "outputs": [],
   "source": [
    "x = bool(string)"
   ]
  },
  {
   "cell_type": "code",
   "execution_count": 40,
   "id": "4ae019b2",
   "metadata": {},
   "outputs": [
    {
     "data": {
      "text/plain": [
       "bool"
      ]
     },
     "execution_count": 40,
     "metadata": {},
     "output_type": "execute_result"
    }
   ],
   "source": [
    "type(x)"
   ]
  },
  {
   "cell_type": "code",
   "execution_count": 42,
   "id": "b0a3a3cb",
   "metadata": {},
   "outputs": [],
   "source": [
    "x = float(integer)"
   ]
  },
  {
   "cell_type": "code",
   "execution_count": 43,
   "id": "0650c7b2",
   "metadata": {},
   "outputs": [
    {
     "data": {
      "text/plain": [
       "float"
      ]
     },
     "execution_count": 43,
     "metadata": {},
     "output_type": "execute_result"
    }
   ],
   "source": [
    "type(x)"
   ]
  },
  {
   "cell_type": "code",
   "execution_count": 44,
   "id": "1251fbd8",
   "metadata": {},
   "outputs": [],
   "source": [
    "x = int(float_var)"
   ]
  },
  {
   "cell_type": "code",
   "execution_count": 45,
   "id": "332611f2",
   "metadata": {},
   "outputs": [
    {
     "data": {
      "text/plain": [
       "int"
      ]
     },
     "execution_count": 45,
     "metadata": {},
     "output_type": "execute_result"
    }
   ],
   "source": [
    "type(x)"
   ]
  },
  {
   "cell_type": "code",
   "execution_count": 49,
   "id": "fd72adbe",
   "metadata": {},
   "outputs": [],
   "source": [
    "x = bool(string)"
   ]
  },
  {
   "cell_type": "code",
   "execution_count": 50,
   "id": "3ff0ee5d",
   "metadata": {},
   "outputs": [
    {
     "data": {
      "text/plain": [
       "bool"
      ]
     },
     "execution_count": 50,
     "metadata": {},
     "output_type": "execute_result"
    }
   ],
   "source": [
    "type(x)"
   ]
  },
  {
   "cell_type": "markdown",
   "id": "b49c13de",
   "metadata": {},
   "source": [
    "## Task 2: Control Flow"
   ]
  },
  {
   "cell_type": "markdown",
   "id": "86c147ac",
   "metadata": {},
   "source": [
    "Create an array containing the first 10 letters of the alphabet. Iterate through the array using a for loop. Inside the for loop, use an if statement to print the word \"four\" instead of the letter \"d\" and \"eight\" instead of the letter \"i\", otherwise print the alphabet letter."
   ]
  },
  {
   "cell_type": "code",
   "execution_count": 52,
   "id": "597d0b32",
   "metadata": {},
   "outputs": [],
   "source": [
    "array = np.array([\"a\", \"b\", \"c\", \"d\", \"e\", \"f\", \"g\", \"h\", \"i\", \"j\"])"
   ]
  },
  {
   "cell_type": "code",
   "execution_count": 55,
   "id": "7323ccea",
   "metadata": {},
   "outputs": [
    {
     "name": "stdout",
     "output_type": "stream",
     "text": [
      "a\n",
      "b\n",
      "c\n",
      "four\n",
      "e\n",
      "f\n",
      "g\n",
      "h\n",
      "eight\n",
      "j\n"
     ]
    }
   ],
   "source": [
    "for i in array:\n",
    "    if i == \"d\":\n",
    "        print(\"four\")\n",
    "    elif i == \"i\":\n",
    "        print(\"eight\")\n",
    "    else:\n",
    "        print(i) "
   ]
  },
  {
   "cell_type": "markdown",
   "id": "875bc76e",
   "metadata": {},
   "source": [
    "## Task 3: Data Structure "
   ]
  },
  {
   "cell_type": "markdown",
   "id": "0acb11fc",
   "metadata": {},
   "source": [
    "Create a tuple containing 4 strings and a list containing 7 strings. Unpack the tuple into 4 different variables and print them. Then try to remove an element from the list and instead insert one of the variables that were the result of unpacking the tuple. Finally, slice and sort the last 3 elements of the list."
   ]
  },
  {
   "cell_type": "code",
   "execution_count": 58,
   "id": "27c22ae7",
   "metadata": {},
   "outputs": [],
   "source": [
    "x = (\"alpha\", \"beta\", \"gamma\", \"delta\")\n",
    "y = [\"epsilon\", \"zeta\", \"eta\", \"theta\", \"iota\", \"kappa\", \"lambda\"]"
   ]
  },
  {
   "cell_type": "code",
   "execution_count": 61,
   "id": "de841366",
   "metadata": {},
   "outputs": [
    {
     "name": "stdout",
     "output_type": "stream",
     "text": [
      "alpha\n",
      "beta\n",
      "gamma\n",
      "delta\n"
     ]
    }
   ],
   "source": [
    "i, j, k , l = x\n",
    "print(i)\n",
    "print(j)\n",
    "print(k)\n",
    "print(l)"
   ]
  },
  {
   "cell_type": "code",
   "execution_count": 62,
   "id": "e617f25b",
   "metadata": {},
   "outputs": [
    {
     "name": "stdout",
     "output_type": "stream",
     "text": [
      "['zeta', 'eta', 'theta', 'iota', 'kappa', 'lambda']\n"
     ]
    }
   ],
   "source": [
    "y.remove(\"epsilon\")\n",
    "print(y)"
   ]
  },
  {
   "cell_type": "code",
   "execution_count": 63,
   "id": "95b2c0f5",
   "metadata": {},
   "outputs": [
    {
     "name": "stdout",
     "output_type": "stream",
     "text": [
      "['zeta', 'eta', 'theta', 'iota', 'kappa', 'lambda', 'alpha']\n"
     ]
    }
   ],
   "source": [
    "y.append(i)\n",
    "print(y)"
   ]
  },
  {
   "cell_type": "code",
   "execution_count": 65,
   "id": "d71815bf",
   "metadata": {},
   "outputs": [
    {
     "data": {
      "text/plain": [
       "['kappa', 'lambda', 'alpha']"
      ]
     },
     "execution_count": 65,
     "metadata": {},
     "output_type": "execute_result"
    }
   ],
   "source": [
    "y[4:]"
   ]
  },
  {
   "cell_type": "markdown",
   "id": "398328ca",
   "metadata": {},
   "source": [
    "Create a dictionary with these keys: 'numbers', 'letters', 'words', 'sentences', 'dates', 'times' and 'months' and for each key, assign a value of that specific type. For instance, you should create a temporary small list to assign to the 'numbers' key, a temporary small string to assign to the 'sentences' key, and a temporary small tuple to assign to the 'dates' key."
   ]
  },
  {
   "cell_type": "code",
   "execution_count": 67,
   "id": "230741f5",
   "metadata": {},
   "outputs": [],
   "source": [
    "dictionary = {\n",
    "    \"numbers\": [5, 10, 15, 20],\n",
    "    \"letters\": [\"a\", \"b\", \"c\", \"d\"],\n",
    "    \"words\": [\"hello\", \"these\", \"are\", \"words\"],\n",
    "    \"sentences\": \"this is a sentence\",\n",
    "    \"dates\": (\"5/16/23\", \"5/17/23\", \"5/18/23\", \"5/19/23\"),\n",
    "    \"times\": (\"7:00 AM\", \"3:00 PM\", \"7:00 PM\", \"11:00 PM\"),\n",
    "    \"months\": (\"January\", \"February\", \"March\", \"April\")\n",
    "}"
   ]
  },
  {
   "cell_type": "markdown",
   "id": "20ae8b2c",
   "metadata": {},
   "source": [
    "## Task 4: Sequence Function"
   ]
  },
  {
   "cell_type": "markdown",
   "id": "4ef5ace1",
   "metadata": {},
   "source": [
    "Create a list containing numbers from 11 to 16, then using a for loop and proper indexing, produce the following output:\n",
    "\n",
    "12 --> 11\n",
    "\n",
    "13 --> 12\n",
    "\n",
    "14 --> 13\n",
    "\n",
    "15 --> 14\n",
    "\n",
    "16 --> 15\n",
    "\n",
    "17 --> 16"
   ]
  },
  {
   "cell_type": "code",
   "execution_count": 95,
   "id": "956b9d58",
   "metadata": {},
   "outputs": [
    {
     "name": "stdout",
     "output_type": "stream",
     "text": [
      "[11, 12, 13, 14, 15, 16]\n"
     ]
    }
   ],
   "source": [
    "a = [11, 12, 13, 14, 15, 16]\n",
    "print(a)"
   ]
  },
  {
   "cell_type": "code",
   "execution_count": 100,
   "id": "f331ff48",
   "metadata": {},
   "outputs": [
    {
     "name": "stdout",
     "output_type": "stream",
     "text": [
      "12 --> 11\n",
      "13 --> 12\n",
      "14 --> 13\n",
      "15 --> 14\n",
      "16 --> 15\n",
      "17 --> 16\n"
     ]
    }
   ],
   "source": [
    "for i in range(len(a)):\n",
    "    b = a[i] + 1\n",
    "    c = a[i]\n",
    "    print(b, \"-->\", c)"
   ]
  },
  {
   "cell_type": "markdown",
   "id": "cf8e3546",
   "metadata": {},
   "source": [
    "## Task 5: Copying"
   ]
  },
  {
   "cell_type": "markdown",
   "id": "637d7785",
   "metadata": {},
   "source": [
    "By copying the previous list, create a new variable containing the same numbers from 11 to 16 elements from the previous list. Change an element in one of the variables and make sure the other doesn't change."
   ]
  },
  {
   "cell_type": "code",
   "execution_count": 101,
   "id": "0918c929",
   "metadata": {},
   "outputs": [
    {
     "name": "stdout",
     "output_type": "stream",
     "text": [
      "[11, 12, 13, 14, 15, 16]\n"
     ]
    }
   ],
   "source": [
    "a\n",
    "new_a = a.copy()\n",
    "print(new_a)"
   ]
  },
  {
   "cell_type": "code",
   "execution_count": 102,
   "id": "28806c9a",
   "metadata": {},
   "outputs": [],
   "source": [
    "new_a[3] = 100"
   ]
  },
  {
   "cell_type": "code",
   "execution_count": 103,
   "id": "997b223d",
   "metadata": {},
   "outputs": [
    {
     "name": "stdout",
     "output_type": "stream",
     "text": [
      "[11, 12, 13, 100, 15, 16]\n"
     ]
    }
   ],
   "source": [
    "print(new_a)"
   ]
  },
  {
   "cell_type": "markdown",
   "id": "4acdc7c5",
   "metadata": {},
   "source": [
    "## Task 6: Exception Handling "
   ]
  },
  {
   "cell_type": "markdown",
   "id": "61aea4ba",
   "metadata": {},
   "source": [
    "Create a variable containing a tuple object. Then try to change its first element the way you change an element in a list and see what kind of error you will get. Then try to catch handle the error and instead of the error print \"Tuples are immutable :)\" "
   ]
  },
  {
   "cell_type": "code",
   "execution_count": 104,
   "id": "3f661555",
   "metadata": {},
   "outputs": [],
   "source": [
    "tup_obj = (100, 200, 300, 400, 500)"
   ]
  },
  {
   "cell_type": "code",
   "execution_count": 107,
   "id": "7d64da28",
   "metadata": {},
   "outputs": [
    {
     "ename": "TypeError",
     "evalue": "'tuple' object does not support item assignment",
     "output_type": "error",
     "traceback": [
      "\u001b[0;31m---------------------------------------------------------------------------\u001b[0m",
      "\u001b[0;31mTypeError\u001b[0m                                 Traceback (most recent call last)",
      "\u001b[0;32m/var/folders/vp/zv5p63wd1rz3_yn4kvl_kwb00000gq/T/ipykernel_36606/501815478.py\u001b[0m in \u001b[0;36m<module>\u001b[0;34m\u001b[0m\n\u001b[0;32m----> 1\u001b[0;31m \u001b[0mtup_obj\u001b[0m\u001b[0;34m[\u001b[0m\u001b[0;36m0\u001b[0m\u001b[0;34m]\u001b[0m \u001b[0;34m=\u001b[0m \u001b[0;36m100000\u001b[0m\u001b[0;34m\u001b[0m\u001b[0;34m\u001b[0m\u001b[0m\n\u001b[0m",
      "\u001b[0;31mTypeError\u001b[0m: 'tuple' object does not support item assignment"
     ]
    }
   ],
   "source": [
    "tup_obj[0] = 100000"
   ]
  },
  {
   "cell_type": "code",
   "execution_count": 108,
   "id": "47d92cb3",
   "metadata": {},
   "outputs": [
    {
     "name": "stdout",
     "output_type": "stream",
     "text": [
      "Tuples are immutable :)\n"
     ]
    }
   ],
   "source": [
    "try:\n",
    "    tup_obj[0] = 100000\n",
    "except TypeError:\n",
    "    print(\"Tuples are immutable :)\")"
   ]
  }
 ],
 "metadata": {
  "kernelspec": {
   "display_name": "Python 3 (ipykernel)",
   "language": "python",
   "name": "python3"
  },
  "language_info": {
   "codemirror_mode": {
    "name": "ipython",
    "version": 3
   },
   "file_extension": ".py",
   "mimetype": "text/x-python",
   "name": "python",
   "nbconvert_exporter": "python",
   "pygments_lexer": "ipython3",
   "version": "3.9.13"
  }
 },
 "nbformat": 4,
 "nbformat_minor": 5
}
