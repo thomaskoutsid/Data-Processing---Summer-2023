{
 "cells": [
  {
   "cell_type": "markdown",
   "id": "ac2188bc",
   "metadata": {},
   "source": [
    "# Thomas Koutsidis\n",
    "\n",
    "## Assignment 4"
   ]
  },
  {
   "cell_type": "code",
   "execution_count": 1,
   "id": "fa95248b",
   "metadata": {},
   "outputs": [],
   "source": [
    "import pandas as pd"
   ]
  },
  {
   "cell_type": "code",
   "execution_count": 2,
   "id": "e29699fa",
   "metadata": {},
   "outputs": [],
   "source": [
    "csv_df = pd.read_csv(\"employees.csv\")"
   ]
  },
  {
   "cell_type": "markdown",
   "id": "d81205b2",
   "metadata": {},
   "source": [
    "### 1. "
   ]
  },
  {
   "cell_type": "code",
   "execution_count": 3,
   "id": "d7489e60",
   "metadata": {},
   "outputs": [
    {
     "name": "stdout",
     "output_type": "stream",
     "text": [
      "Business Development    101\n",
      "Client Services         106\n",
      "Distribution             90\n",
      "Engineering              92\n",
      "Finance                 102\n",
      "Human Resources          91\n",
      "Legal                    88\n",
      "Marketing                98\n",
      "Product                  95\n",
      "Sales                    94\n",
      "dtype: int64\n"
     ]
    }
   ],
   "source": [
    "categories = pd.Categorical(csv_df['Team'])\n",
    "teams = categories.value_counts()\n",
    "print(teams)"
   ]
  },
  {
   "cell_type": "markdown",
   "id": "e7c8f757",
   "metadata": {},
   "source": [
    "### 2."
   ]
  },
  {
   "cell_type": "code",
   "execution_count": 4,
   "id": "ffe94a16",
   "metadata": {},
   "outputs": [],
   "source": [
    "teams_salaries = csv_df.groupby('Team')['Salary'].transform('mean')\n",
    "csv_df['Salary'] = teams_salaries.round(2)"
   ]
  },
  {
   "cell_type": "code",
   "execution_count": 5,
   "id": "b7d3196d",
   "metadata": {
    "scrolled": true
   },
   "outputs": [
    {
     "data": {
      "text/html": [
       "<div>\n",
       "<style scoped>\n",
       "    .dataframe tbody tr th:only-of-type {\n",
       "        vertical-align: middle;\n",
       "    }\n",
       "\n",
       "    .dataframe tbody tr th {\n",
       "        vertical-align: top;\n",
       "    }\n",
       "\n",
       "    .dataframe thead th {\n",
       "        text-align: right;\n",
       "    }\n",
       "</style>\n",
       "<table border=\"1\" class=\"dataframe\">\n",
       "  <thead>\n",
       "    <tr style=\"text-align: right;\">\n",
       "      <th></th>\n",
       "      <th>First Name</th>\n",
       "      <th>Gender</th>\n",
       "      <th>Start Date</th>\n",
       "      <th>Last Login Time</th>\n",
       "      <th>Salary</th>\n",
       "      <th>Bonus %</th>\n",
       "      <th>Senior Management</th>\n",
       "      <th>Team</th>\n",
       "    </tr>\n",
       "  </thead>\n",
       "  <tbody>\n",
       "    <tr>\n",
       "      <th>0</th>\n",
       "      <td>Douglas</td>\n",
       "      <td>Male</td>\n",
       "      <td>8/6/1993</td>\n",
       "      <td>12:42 PM</td>\n",
       "      <td>90435.59</td>\n",
       "      <td>6.945</td>\n",
       "      <td>True</td>\n",
       "      <td>Marketing</td>\n",
       "    </tr>\n",
       "    <tr>\n",
       "      <th>1</th>\n",
       "      <td>Thomas</td>\n",
       "      <td>Male</td>\n",
       "      <td>3/31/1996</td>\n",
       "      <td>6:53 AM</td>\n",
       "      <td>NaN</td>\n",
       "      <td>4.170</td>\n",
       "      <td>True</td>\n",
       "      <td>NaN</td>\n",
       "    </tr>\n",
       "    <tr>\n",
       "      <th>2</th>\n",
       "      <td>Maria</td>\n",
       "      <td>Female</td>\n",
       "      <td>4/23/1993</td>\n",
       "      <td>11:17 AM</td>\n",
       "      <td>92219.48</td>\n",
       "      <td>11.858</td>\n",
       "      <td>False</td>\n",
       "      <td>Finance</td>\n",
       "    </tr>\n",
       "    <tr>\n",
       "      <th>3</th>\n",
       "      <td>Jerry</td>\n",
       "      <td>Male</td>\n",
       "      <td>3/4/2005</td>\n",
       "      <td>1:00 PM</td>\n",
       "      <td>92219.48</td>\n",
       "      <td>9.340</td>\n",
       "      <td>True</td>\n",
       "      <td>Finance</td>\n",
       "    </tr>\n",
       "    <tr>\n",
       "      <th>4</th>\n",
       "      <td>Larry</td>\n",
       "      <td>Male</td>\n",
       "      <td>1/24/1998</td>\n",
       "      <td>4:47 PM</td>\n",
       "      <td>88224.42</td>\n",
       "      <td>1.389</td>\n",
       "      <td>True</td>\n",
       "      <td>Client Services</td>\n",
       "    </tr>\n",
       "    <tr>\n",
       "      <th>...</th>\n",
       "      <td>...</td>\n",
       "      <td>...</td>\n",
       "      <td>...</td>\n",
       "      <td>...</td>\n",
       "      <td>...</td>\n",
       "      <td>...</td>\n",
       "      <td>...</td>\n",
       "      <td>...</td>\n",
       "    </tr>\n",
       "    <tr>\n",
       "      <th>995</th>\n",
       "      <td>Henry</td>\n",
       "      <td>NaN</td>\n",
       "      <td>11/23/2014</td>\n",
       "      <td>6:09 AM</td>\n",
       "      <td>88500.47</td>\n",
       "      <td>16.655</td>\n",
       "      <td>False</td>\n",
       "      <td>Distribution</td>\n",
       "    </tr>\n",
       "    <tr>\n",
       "      <th>996</th>\n",
       "      <td>Phillip</td>\n",
       "      <td>Male</td>\n",
       "      <td>1/31/1984</td>\n",
       "      <td>6:30 AM</td>\n",
       "      <td>92219.48</td>\n",
       "      <td>19.675</td>\n",
       "      <td>False</td>\n",
       "      <td>Finance</td>\n",
       "    </tr>\n",
       "    <tr>\n",
       "      <th>997</th>\n",
       "      <td>Russell</td>\n",
       "      <td>Male</td>\n",
       "      <td>5/20/2013</td>\n",
       "      <td>12:39 PM</td>\n",
       "      <td>88665.51</td>\n",
       "      <td>1.421</td>\n",
       "      <td>False</td>\n",
       "      <td>Product</td>\n",
       "    </tr>\n",
       "    <tr>\n",
       "      <th>998</th>\n",
       "      <td>Larry</td>\n",
       "      <td>Male</td>\n",
       "      <td>4/20/2013</td>\n",
       "      <td>4:45 PM</td>\n",
       "      <td>91866.32</td>\n",
       "      <td>11.985</td>\n",
       "      <td>False</td>\n",
       "      <td>Business Development</td>\n",
       "    </tr>\n",
       "    <tr>\n",
       "      <th>999</th>\n",
       "      <td>Albert</td>\n",
       "      <td>Male</td>\n",
       "      <td>5/15/2012</td>\n",
       "      <td>6:24 PM</td>\n",
       "      <td>92173.44</td>\n",
       "      <td>10.169</td>\n",
       "      <td>True</td>\n",
       "      <td>Sales</td>\n",
       "    </tr>\n",
       "  </tbody>\n",
       "</table>\n",
       "<p>1000 rows × 8 columns</p>\n",
       "</div>"
      ],
      "text/plain": [
       "    First Name  Gender  Start Date Last Login Time    Salary  Bonus %  \\\n",
       "0      Douglas    Male    8/6/1993        12:42 PM  90435.59    6.945   \n",
       "1       Thomas    Male   3/31/1996         6:53 AM       NaN    4.170   \n",
       "2        Maria  Female   4/23/1993        11:17 AM  92219.48   11.858   \n",
       "3        Jerry    Male    3/4/2005         1:00 PM  92219.48    9.340   \n",
       "4        Larry    Male   1/24/1998         4:47 PM  88224.42    1.389   \n",
       "..         ...     ...         ...             ...       ...      ...   \n",
       "995      Henry     NaN  11/23/2014         6:09 AM  88500.47   16.655   \n",
       "996    Phillip    Male   1/31/1984         6:30 AM  92219.48   19.675   \n",
       "997    Russell    Male   5/20/2013        12:39 PM  88665.51    1.421   \n",
       "998      Larry    Male   4/20/2013         4:45 PM  91866.32   11.985   \n",
       "999     Albert    Male   5/15/2012         6:24 PM  92173.44   10.169   \n",
       "\n",
       "    Senior Management                  Team  \n",
       "0                True             Marketing  \n",
       "1                True                   NaN  \n",
       "2               False               Finance  \n",
       "3                True               Finance  \n",
       "4                True       Client Services  \n",
       "..                ...                   ...  \n",
       "995             False          Distribution  \n",
       "996             False               Finance  \n",
       "997             False               Product  \n",
       "998             False  Business Development  \n",
       "999              True                 Sales  \n",
       "\n",
       "[1000 rows x 8 columns]"
      ]
     },
     "execution_count": 5,
     "metadata": {},
     "output_type": "execute_result"
    }
   ],
   "source": [
    "csv_df"
   ]
  },
  {
   "cell_type": "markdown",
   "id": "07d12fcb",
   "metadata": {},
   "source": [
    "### 3."
   ]
  },
  {
   "cell_type": "code",
   "execution_count": 6,
   "id": "8484ca07",
   "metadata": {
    "scrolled": true
   },
   "outputs": [
    {
     "data": {
      "image/png": "[encoded data removed]",
      "text/plain": [
       "<Figure size 640x480 with 1 Axes>"
      ]
     },
     "metadata": {},
     "output_type": "display_data"
    }
   ],
   "source": [
    "import matplotlib.pyplot as plt\n",
    "\n",
    "avg_sal = csv_df.groupby('Team')['Salary'].mean()\n",
    "\n",
    "plt.bar(avg_sal.index, avg_sal)\n",
    "plt.xticks(rotation = 90)\n",
    "plt.xlabel('Team')\n",
    "plt.ylabel('Average Salary')\n",
    "plt.show()\n",
    "\n",
    "# Resources used:\n",
    "# https://stackabuse.com/rotate-axis-labels-in-matplotlib/"
   ]
  },
  {
   "cell_type": "markdown",
   "id": "48bb874b",
   "metadata": {},
   "source": [
    "### 4."
   ]
  },
  {
   "cell_type": "code",
   "execution_count": 7,
   "id": "9d738b7c",
   "metadata": {},
   "outputs": [],
   "source": [
    "csv_df['Start Date'] = pd.to_datetime(csv_df['Start Date'])\n",
    "\n",
    "# Resources used:\n",
    "# https://pandas.pydata.org/docs/reference/api/pandas.to_datetime.html"
   ]
  },
  {
   "cell_type": "code",
   "execution_count": 8,
   "id": "5b6cfbdc",
   "metadata": {
    "scrolled": true
   },
   "outputs": [
    {
     "data": {
      "text/plain": [
       "0     1993-08-06\n",
       "1     1996-03-31\n",
       "2     1993-04-23\n",
       "3     2005-03-04\n",
       "4     1998-01-24\n",
       "         ...    \n",
       "995   2014-11-23\n",
       "996   1984-01-31\n",
       "997   2013-05-20\n",
       "998   2013-04-20\n",
       "999   2012-05-15\n",
       "Name: Start Date, Length: 1000, dtype: datetime64[ns]"
      ]
     },
     "execution_count": 8,
     "metadata": {},
     "output_type": "execute_result"
    }
   ],
   "source": [
    "csv_df['Start Date']"
   ]
  },
  {
   "cell_type": "markdown",
   "id": "1571e0e7",
   "metadata": {},
   "source": [
    "### 5."
   ]
  },
  {
   "cell_type": "code",
   "execution_count": 9,
   "id": "fc0272af",
   "metadata": {},
   "outputs": [],
   "source": [
    "csv_df.set_index('Start Date', inplace = True)\n",
    "\n",
    "bonuses = pd.Series(csv_df['Bonus %'])"
   ]
  },
  {
   "cell_type": "code",
   "execution_count": 10,
   "id": "94408d71",
   "metadata": {
    "scrolled": true
   },
   "outputs": [
    {
     "data": {
      "text/plain": [
       "Start Date\n",
       "1993-08-06     6.945\n",
       "1996-03-31     4.170\n",
       "1993-04-23    11.858\n",
       "2005-03-04     9.340\n",
       "1998-01-24     1.389\n",
       "               ...  \n",
       "2014-11-23    16.655\n",
       "1984-01-31    19.675\n",
       "2013-05-20     1.421\n",
       "2013-04-20    11.985\n",
       "2012-05-15    10.169\n",
       "Name: Bonus %, Length: 1000, dtype: float64"
      ]
     },
     "execution_count": 10,
     "metadata": {},
     "output_type": "execute_result"
    }
   ],
   "source": [
    "bonuses"
   ]
  },
  {
   "cell_type": "markdown",
   "id": "aaf1cf69",
   "metadata": {},
   "source": [
    "### 6."
   ]
  },
  {
   "cell_type": "code",
   "execution_count": 11,
   "id": "048edaf2",
   "metadata": {
    "scrolled": true
   },
   "outputs": [
    {
     "data": {
      "image/png": "[encoded data removed]",
      "text/plain": [
       "<Figure size 640x480 with 1 Axes>"
      ]
     },
     "metadata": {},
     "output_type": "display_data"
    }
   ],
   "source": [
    "plt.scatter(bonuses.index, bonuses, color = 'red', marker = '.')\n",
    "plt.xlabel('Time')\n",
    "plt.ylabel('Bonus')\n",
    "plt.show()\n",
    "\n",
    "# Resources used:\n",
    "# https://e2eml.school/matplotlib_points.html\n",
    "# https://matplotlib.org/stable/api/markers_api.html"
   ]
  },
  {
   "cell_type": "markdown",
   "id": "65479032",
   "metadata": {},
   "source": [
    "### 7."
   ]
  },
  {
   "cell_type": "code",
   "execution_count": 12,
   "id": "8a195ec8",
   "metadata": {},
   "outputs": [],
   "source": [
    "bonuses_08 = bonuses[bonuses.index < '2008-01-01']"
   ]
  },
  {
   "cell_type": "code",
   "execution_count": 13,
   "id": "5bf32d38",
   "metadata": {
    "scrolled": true
   },
   "outputs": [
    {
     "data": {
      "text/plain": [
       "Start Date\n",
       "1993-08-06     6.945\n",
       "1996-03-31     4.170\n",
       "1993-04-23    11.858\n",
       "2005-03-04     9.340\n",
       "1998-01-24     1.389\n",
       "               ...  \n",
       "1991-02-10     3.794\n",
       "1987-07-24    10.982\n",
       "2002-08-25    11.051\n",
       "1997-05-15    19.040\n",
       "1984-01-31    19.675\n",
       "Name: Bonus %, Length: 753, dtype: float64"
      ]
     },
     "execution_count": 13,
     "metadata": {},
     "output_type": "execute_result"
    }
   ],
   "source": [
    "bonuses_08"
   ]
  },
  {
   "cell_type": "markdown",
   "id": "a8ea171e",
   "metadata": {},
   "source": [
    "### 8."
   ]
  },
  {
   "cell_type": "code",
   "execution_count": 14,
   "id": "a9d8f926",
   "metadata": {},
   "outputs": [],
   "source": [
    "downsample = bonuses.resample('3M').mean()"
   ]
  },
  {
   "cell_type": "code",
   "execution_count": 15,
   "id": "f86e1382",
   "metadata": {},
   "outputs": [
    {
     "data": {
      "text/plain": [
       "Start Date\n",
       "1980-01-31     3.507000\n",
       "1980-04-30    10.426857\n",
       "1980-07-31    10.192750\n",
       "1980-10-31    12.474500\n",
       "1981-01-31    11.314000\n",
       "                ...    \n",
       "2015-07-31    10.327500\n",
       "2015-10-31    10.002500\n",
       "2016-01-31     9.347143\n",
       "2016-04-30     9.394667\n",
       "2016-07-31    13.511167\n",
       "Freq: 3M, Name: Bonus %, Length: 147, dtype: float64"
      ]
     },
     "execution_count": 15,
     "metadata": {},
     "output_type": "execute_result"
    }
   ],
   "source": [
    "downsample"
   ]
  }
 ],
 "metadata": {
  "kernelspec": {
   "display_name": "Python 3 (ipykernel)",
   "language": "python",
   "name": "python3"
  },
  "language_info": {
   "codemirror_mode": {
    "name": "ipython",
    "version": 3
   },
   "file_extension": ".py",
   "mimetype": "text/x-python",
   "name": "python",
   "nbconvert_exporter": "python",
   "pygments_lexer": "ipython3",
   "version": "3.9.13"
  }
 },
 "nbformat": 4,
 "nbformat_minor": 5
}
