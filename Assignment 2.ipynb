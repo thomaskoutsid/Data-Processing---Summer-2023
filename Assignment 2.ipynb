{
 "cells": [
  {
   "cell_type": "code",
   "execution_count": 1,
   "id": "cd6c91c6",
   "metadata": {},
   "outputs": [],
   "source": [
    "import pandas as pd\n",
    "import numpy as np"
   ]
  },
  {
   "cell_type": "markdown",
   "id": "3b516dfb",
   "metadata": {},
   "source": [
    "## Task 1: NdArray"
   ]
  },
  {
   "cell_type": "markdown",
   "id": "9b4eeb1b",
   "metadata": {},
   "source": [
    "Create a list and 1-dimensional numpy array with identical elements and show that slicing in both is the same."
   ]
  },
  {
   "cell_type": "code",
   "execution_count": 5,
   "id": "d7a7155d",
   "metadata": {},
   "outputs": [
    {
     "name": "stdout",
     "output_type": "stream",
     "text": [
      "List slice:  ['b', 'c', 'd', 'e']\n",
      "NumPy array slice:  ['b' 'c' 'd' 'e']\n"
     ]
    }
   ],
   "source": [
    "x = [\"a\", \"b\", \"c\", \"d\", \"e\"]\n",
    "y = np.array([\"a\", \"b\", \"c\", \"d\", \"e\"])\n",
    "\n",
    "print(\"List slice: \", x[1:])\n",
    "print(\"NumPy array slice: \", y[1:])"
   ]
  },
  {
   "cell_type": "markdown",
   "id": "03fd70b3",
   "metadata": {},
   "source": [
    "Choose 3 movies and create 2, 3x4 numpy arrays as follows:\n",
    "\n",
    "The first numpy array called cast contains the name of 4 actors/actresses from each movie.\n",
    "\n",
    "The second numpy array called movies contains the name of the movie corresponding to each cast.\n",
    "\n",
    "Calculate the boolean indexing for one of the movies in the second numpy array."
   ]
  },
  {
   "cell_type": "code",
   "execution_count": 10,
   "id": "73adbc8c",
   "metadata": {
    "scrolled": true
   },
   "outputs": [
    {
     "name": "stdout",
     "output_type": "stream",
     "text": [
      "Boolean Index for 'Little Women': [False False  True]\n"
     ]
    }
   ],
   "source": [
    "cast = np.array([[\"Samuel L. Jackson\", \"John Travolta\", \"Uma Thurman\", \"Bruce Willis\"],\n",
    "                [\"Timothee Chalamet\", \"Oscar Isaac\", \"Jason Momoa\", \"Javier Bardem\"],\n",
    "                [\"Florence Pugh\", \"Saoirse Ronan\", \"Emma Watson\", \"Laura Dern\"]])\n",
    "\n",
    "movies = np.array([\"Pulp Fiction\", \"Dune\", \"Little Women\"])\n",
    "\n",
    "# Boolean Index for the movie \"Little Women\"\n",
    "a = movies[2]\n",
    "index = (movies == a)\n",
    "print(\"Boolean Index for 'Little Women':\", index)"
   ]
  },
  {
   "cell_type": "markdown",
   "id": "dc46a4e0",
   "metadata": {},
   "source": [
    "Using the boolean indexing from the previous step, select the actors/actresses that played in that movie and put it in \n",
    "a new numpy array called selected_movie."
   ]
  },
  {
   "cell_type": "code",
   "execution_count": 15,
   "id": "d65b6ac1",
   "metadata": {},
   "outputs": [
    {
     "name": "stdout",
     "output_type": "stream",
     "text": [
      "Cast of 'Little Women': [['Florence Pugh' 'Saoirse Ronan' 'Emma Watson' 'Laura Dern']]\n"
     ]
    }
   ],
   "source": [
    "selected_movie = cast[index]\n",
    "print(\"Cast of 'Little Women':\", selected_movie)"
   ]
  },
  {
   "cell_type": "code",
   "execution_count": 18,
   "id": "82ff0622",
   "metadata": {},
   "outputs": [
    {
     "name": "stdout",
     "output_type": "stream",
     "text": [
      "<class 'numpy.ndarray'>\n",
      "<class 'numpy.ndarray'>\n",
      "<class 'numpy.ndarray'>\n"
     ]
    }
   ],
   "source": [
    "# Confirming all three are numpy arrays\n",
    "print(type(selected_movie))\n",
    "print(type(cast))\n",
    "print(type(movies))"
   ]
  },
  {
   "cell_type": "markdown",
   "id": "84636b49",
   "metadata": {},
   "source": [
    "Save all of the three numpy arrays from the previous steps to disk."
   ]
  },
  {
   "cell_type": "code",
   "execution_count": 19,
   "id": "f7609b12",
   "metadata": {},
   "outputs": [],
   "source": [
    "np.savez(\"task_1_arrays.npz\", cast = cast, movies = movies, selected_movie = selected_movie)"
   ]
  },
  {
   "cell_type": "markdown",
   "id": "b793b94a",
   "metadata": {},
   "source": [
    "Reload the saved file and load the three numpy arrays to three new variables called cast_new, movies_new and selected_movie_new."
   ]
  },
  {
   "cell_type": "code",
   "execution_count": 27,
   "id": "c7b03a1d",
   "metadata": {},
   "outputs": [],
   "source": [
    "cast_new, movies_new, selected_movie_new = np.load('task_1_arrays.npz').values()"
   ]
  },
  {
   "cell_type": "code",
   "execution_count": 33,
   "id": "94972914",
   "metadata": {},
   "outputs": [
    {
     "name": "stdout",
     "output_type": "stream",
     "text": [
      "1. cast_new array: [['Samuel L. Jackson' 'John Travolta' 'Uma Thurman' 'Bruce Willis']\n",
      " ['Timothee Chalamet' 'Oscar Isaac' 'Jason Momoa' 'Javier Bardem']\n",
      " ['Florence Pugh' 'Saoirse Ronan' 'Emma Watson' 'Laura Dern']]\n",
      "2. movies_new array: ['Pulp Fiction' 'Dune' 'Little Women']\n",
      "3. selected_movie_new array: [['Florence Pugh' 'Saoirse Ronan' 'Emma Watson' 'Laura Dern']]\n"
     ]
    }
   ],
   "source": [
    "print(\"1. cast_new array:\", cast_new)\n",
    "print(\"2. movies_new array:\", movies_new)\n",
    "print(\"3. selected_movie_new array:\", selected_movie_new)"
   ]
  },
  {
   "cell_type": "markdown",
   "id": "40da4a46",
   "metadata": {},
   "source": [
    "## Task 2: Pandas Basics"
   ]
  },
  {
   "cell_type": "markdown",
   "id": "d5b9781c",
   "metadata": {},
   "source": [
    "Create a Series object as follows: \n",
    "\n",
    "The Series object contains at least 7 car models with the index being car brands like 'BMW' , e.g. data being X3 and the index is BMW."
   ]
  },
  {
   "cell_type": "code",
   "execution_count": 41,
   "id": "f6e2c3ed",
   "metadata": {},
   "outputs": [
    {
     "name": "stdout",
     "output_type": "stream",
     "text": [
      "BMW             X3\n",
      "Audi            A4\n",
      "Jeep       Compass\n",
      "Nissan      Altima\n",
      "Toyota     Corolla\n",
      "Tesla      Model 3\n",
      "Ford       Mustang\n",
      "Porsche        911\n",
      "dtype: object\n"
     ]
    }
   ],
   "source": [
    "car = pd.Series([\"X3\", \"A4\", \"Compass\", \"Altima\", \"Corolla\", \"Model 3\", \"Mustang\", \"911\"], \n",
    "                index = [\"BMW\", \"Audi\", \"Jeep\", \"Nissan\", \"Toyota\", \"Tesla\", \"Ford\", \"Porsche\"])\n",
    "print(car)"
   ]
  },
  {
   "cell_type": "markdown",
   "id": "19e0d9c7",
   "metadata": {},
   "source": [
    "Use boolean filtering to filter cars containing the letter 'a'"
   ]
  },
  {
   "cell_type": "code",
   "execution_count": 42,
   "id": "4ff529c7",
   "metadata": {},
   "outputs": [
    {
     "data": {
      "text/plain": [
       "BMW        False\n",
       "Audi       False\n",
       "Jeep        True\n",
       "Nissan      True\n",
       "Toyota      True\n",
       "Tesla      False\n",
       "Ford        True\n",
       "Porsche    False\n",
       "dtype: bool"
      ]
     },
     "execution_count": 42,
     "metadata": {},
     "output_type": "execute_result"
    }
   ],
   "source": [
    "car.str.contains(\"a\")"
   ]
  },
  {
   "cell_type": "markdown",
   "id": "be13eadf",
   "metadata": {},
   "source": [
    "Rename the index column to \"manufacturer.\""
   ]
  },
  {
   "cell_type": "code",
   "execution_count": 44,
   "id": "b26fd8a6",
   "metadata": {},
   "outputs": [
    {
     "name": "stdout",
     "output_type": "stream",
     "text": [
      "manufacturer\n",
      "BMW             X3\n",
      "Audi            A4\n",
      "Jeep       Compass\n",
      "Nissan      Altima\n",
      "Toyota     Corolla\n",
      "Tesla      Model 3\n",
      "Ford       Mustang\n",
      "Porsche        911\n",
      "dtype: object\n"
     ]
    }
   ],
   "source": [
    "car.index.name = \"manufacturer\"\n",
    "print(car)"
   ]
  },
  {
   "cell_type": "markdown",
   "id": "cf187c4e",
   "metadata": {},
   "source": [
    "## Task 3: DataFrame"
   ]
  },
  {
   "cell_type": "markdown",
   "id": "a0152d51",
   "metadata": {},
   "source": [
    "Create a DataFrame as follows:\n",
    "\n",
    "The DataFrame columns are \"fruit\" (string), \"number_of_seeds\" (integer), \"edible\" (boolean) and \"season\" (one of the values for 'summer', 'fall' or 'spring'), and the DataFrame contains at least 5 rows."
   ]
  },
  {
   "cell_type": "code",
   "execution_count": 46,
   "id": "e76e72dd",
   "metadata": {},
   "outputs": [],
   "source": [
    "x = {'fruit': [\"apple\", \"orange\", \"banana\", \"strawberry\", \"blueberry\"],\n",
    "    'number_of_seeds': [1, 2, 3, 4 , 5],\n",
    "    'edible': [True, True, True, True, True],\n",
    "    'season': ['spring', \"fall\", \"summer\", \"spring\", \"fall\"]}\n",
    "\n",
    "df = pd.DataFrame(x)"
   ]
  },
  {
   "cell_type": "markdown",
   "id": "cbb294bc",
   "metadata": {},
   "source": [
    "Add a new column to the DataFrame called \"Color\" and show that all the values for the column are NaN after adding the column"
   ]
  },
  {
   "cell_type": "code",
   "execution_count": 56,
   "id": "a50adc0f",
   "metadata": {},
   "outputs": [
    {
     "data": {
      "text/html": [
       "<div>\n",
       "<style scoped>\n",
       "    .dataframe tbody tr th:only-of-type {\n",
       "        vertical-align: middle;\n",
       "    }\n",
       "\n",
       "    .dataframe tbody tr th {\n",
       "        vertical-align: top;\n",
       "    }\n",
       "\n",
       "    .dataframe thead th {\n",
       "        text-align: right;\n",
       "    }\n",
       "</style>\n",
       "<table border=\"1\" class=\"dataframe\">\n",
       "  <thead>\n",
       "    <tr style=\"text-align: right;\">\n",
       "      <th></th>\n",
       "      <th>fruit</th>\n",
       "      <th>number_of_seeds</th>\n",
       "      <th>edible</th>\n",
       "      <th>season</th>\n",
       "      <th>Color</th>\n",
       "    </tr>\n",
       "  </thead>\n",
       "  <tbody>\n",
       "    <tr>\n",
       "      <th>0</th>\n",
       "      <td>apple</td>\n",
       "      <td>1</td>\n",
       "      <td>True</td>\n",
       "      <td>spring</td>\n",
       "      <td>NaN</td>\n",
       "    </tr>\n",
       "    <tr>\n",
       "      <th>1</th>\n",
       "      <td>orange</td>\n",
       "      <td>2</td>\n",
       "      <td>True</td>\n",
       "      <td>fall</td>\n",
       "      <td>NaN</td>\n",
       "    </tr>\n",
       "    <tr>\n",
       "      <th>2</th>\n",
       "      <td>banana</td>\n",
       "      <td>3</td>\n",
       "      <td>True</td>\n",
       "      <td>summer</td>\n",
       "      <td>NaN</td>\n",
       "    </tr>\n",
       "    <tr>\n",
       "      <th>3</th>\n",
       "      <td>strawberry</td>\n",
       "      <td>4</td>\n",
       "      <td>True</td>\n",
       "      <td>spring</td>\n",
       "      <td>NaN</td>\n",
       "    </tr>\n",
       "    <tr>\n",
       "      <th>4</th>\n",
       "      <td>blueberry</td>\n",
       "      <td>5</td>\n",
       "      <td>True</td>\n",
       "      <td>fall</td>\n",
       "      <td>NaN</td>\n",
       "    </tr>\n",
       "  </tbody>\n",
       "</table>\n",
       "</div>"
      ],
      "text/plain": [
       "        fruit  number_of_seeds  edible  season  Color\n",
       "0       apple                1    True  spring    NaN\n",
       "1      orange                2    True    fall    NaN\n",
       "2      banana                3    True  summer    NaN\n",
       "3  strawberry                4    True  spring    NaN\n",
       "4   blueberry                5    True    fall    NaN"
      ]
     },
     "execution_count": 56,
     "metadata": {},
     "output_type": "execute_result"
    }
   ],
   "source": [
    "new_df = pd.DataFrame(df, columns = [\"fruit\", \"number_of_seeds\", \"edible\", \"season\", \"Color\"])\n",
    "\n",
    "new_df"
   ]
  },
  {
   "cell_type": "markdown",
   "id": "c11f7a2d",
   "metadata": {},
   "source": [
    "Set all of the values for the \"Color\" column to \"Unknown\""
   ]
  },
  {
   "cell_type": "code",
   "execution_count": 58,
   "id": "a54cf138",
   "metadata": {
    "scrolled": true
   },
   "outputs": [
    {
     "data": {
      "text/html": [
       "<div>\n",
       "<style scoped>\n",
       "    .dataframe tbody tr th:only-of-type {\n",
       "        vertical-align: middle;\n",
       "    }\n",
       "\n",
       "    .dataframe tbody tr th {\n",
       "        vertical-align: top;\n",
       "    }\n",
       "\n",
       "    .dataframe thead th {\n",
       "        text-align: right;\n",
       "    }\n",
       "</style>\n",
       "<table border=\"1\" class=\"dataframe\">\n",
       "  <thead>\n",
       "    <tr style=\"text-align: right;\">\n",
       "      <th></th>\n",
       "      <th>fruit</th>\n",
       "      <th>number_of_seeds</th>\n",
       "      <th>edible</th>\n",
       "      <th>season</th>\n",
       "      <th>Color</th>\n",
       "    </tr>\n",
       "  </thead>\n",
       "  <tbody>\n",
       "    <tr>\n",
       "      <th>0</th>\n",
       "      <td>apple</td>\n",
       "      <td>1</td>\n",
       "      <td>True</td>\n",
       "      <td>spring</td>\n",
       "      <td>Unknown</td>\n",
       "    </tr>\n",
       "    <tr>\n",
       "      <th>1</th>\n",
       "      <td>orange</td>\n",
       "      <td>2</td>\n",
       "      <td>True</td>\n",
       "      <td>fall</td>\n",
       "      <td>Unknown</td>\n",
       "    </tr>\n",
       "    <tr>\n",
       "      <th>2</th>\n",
       "      <td>banana</td>\n",
       "      <td>3</td>\n",
       "      <td>True</td>\n",
       "      <td>summer</td>\n",
       "      <td>Unknown</td>\n",
       "    </tr>\n",
       "    <tr>\n",
       "      <th>3</th>\n",
       "      <td>strawberry</td>\n",
       "      <td>4</td>\n",
       "      <td>True</td>\n",
       "      <td>spring</td>\n",
       "      <td>Unknown</td>\n",
       "    </tr>\n",
       "    <tr>\n",
       "      <th>4</th>\n",
       "      <td>blueberry</td>\n",
       "      <td>5</td>\n",
       "      <td>True</td>\n",
       "      <td>fall</td>\n",
       "      <td>Unknown</td>\n",
       "    </tr>\n",
       "  </tbody>\n",
       "</table>\n",
       "</div>"
      ],
      "text/plain": [
       "        fruit  number_of_seeds  edible  season    Color\n",
       "0       apple                1    True  spring  Unknown\n",
       "1      orange                2    True    fall  Unknown\n",
       "2      banana                3    True  summer  Unknown\n",
       "3  strawberry                4    True  spring  Unknown\n",
       "4   blueberry                5    True    fall  Unknown"
      ]
     },
     "execution_count": 58,
     "metadata": {},
     "output_type": "execute_result"
    }
   ],
   "source": [
    "new_df[\"Color\"] = \"Unknown\"\n",
    "\n",
    "new_df"
   ]
  },
  {
   "cell_type": "markdown",
   "id": "0c0d6907",
   "metadata": {},
   "source": [
    "Use slicing properly to extract \"number_of_seeds\" and \"fruit\" for 2 rows."
   ]
  },
  {
   "cell_type": "code",
   "execution_count": 67,
   "id": "f90e2180",
   "metadata": {},
   "outputs": [
    {
     "data": {
      "text/html": [
       "<div>\n",
       "<style scoped>\n",
       "    .dataframe tbody tr th:only-of-type {\n",
       "        vertical-align: middle;\n",
       "    }\n",
       "\n",
       "    .dataframe tbody tr th {\n",
       "        vertical-align: top;\n",
       "    }\n",
       "\n",
       "    .dataframe thead th {\n",
       "        text-align: right;\n",
       "    }\n",
       "</style>\n",
       "<table border=\"1\" class=\"dataframe\">\n",
       "  <thead>\n",
       "    <tr style=\"text-align: right;\">\n",
       "      <th></th>\n",
       "      <th>fruit</th>\n",
       "      <th>number_of_seeds</th>\n",
       "    </tr>\n",
       "  </thead>\n",
       "  <tbody>\n",
       "    <tr>\n",
       "      <th>0</th>\n",
       "      <td>apple</td>\n",
       "      <td>1</td>\n",
       "    </tr>\n",
       "    <tr>\n",
       "      <th>1</th>\n",
       "      <td>orange</td>\n",
       "      <td>2</td>\n",
       "    </tr>\n",
       "  </tbody>\n",
       "</table>\n",
       "</div>"
      ],
      "text/plain": [
       "    fruit  number_of_seeds\n",
       "0   apple                1\n",
       "1  orange                2"
      ]
     },
     "execution_count": 67,
     "metadata": {},
     "output_type": "execute_result"
    }
   ],
   "source": [
    "new_df.iloc[0:2,0:2]"
   ]
  },
  {
   "cell_type": "markdown",
   "id": "97d42f6c",
   "metadata": {},
   "source": [
    "Write a function called \"seed_count_calculator\" and use the apply() method to sum the number_of_seeds row. (do not use the built-in sum functions for this part)"
   ]
  },
  {
   "cell_type": "code",
   "execution_count": 78,
   "id": "9ccc2a85",
   "metadata": {},
   "outputs": [],
   "source": [
    "def seed_count_calculator(seed):\n",
    "    count = 0\n",
    "    for i in seed:\n",
    "        count += i\n",
    "    return count"
   ]
  },
  {
   "cell_type": "code",
   "execution_count": 86,
   "id": "c272336f",
   "metadata": {},
   "outputs": [
    {
     "name": "stdout",
     "output_type": "stream",
     "text": [
      "number_of_seeds    15\n",
      "dtype: int64\n"
     ]
    }
   ],
   "source": [
    "seeds = new_df[[\"number_of_seeds\"]].apply(seed_count_calculator)\n",
    "print(seeds)"
   ]
  },
  {
   "cell_type": "markdown",
   "id": "1f887638",
   "metadata": {},
   "source": [
    "Try to sort the DataFrame by fruit names."
   ]
  },
  {
   "cell_type": "code",
   "execution_count": 87,
   "id": "2b7eb3c1",
   "metadata": {},
   "outputs": [
    {
     "data": {
      "text/html": [
       "<div>\n",
       "<style scoped>\n",
       "    .dataframe tbody tr th:only-of-type {\n",
       "        vertical-align: middle;\n",
       "    }\n",
       "\n",
       "    .dataframe tbody tr th {\n",
       "        vertical-align: top;\n",
       "    }\n",
       "\n",
       "    .dataframe thead th {\n",
       "        text-align: right;\n",
       "    }\n",
       "</style>\n",
       "<table border=\"1\" class=\"dataframe\">\n",
       "  <thead>\n",
       "    <tr style=\"text-align: right;\">\n",
       "      <th></th>\n",
       "      <th>fruit</th>\n",
       "      <th>number_of_seeds</th>\n",
       "      <th>edible</th>\n",
       "      <th>season</th>\n",
       "      <th>Color</th>\n",
       "    </tr>\n",
       "  </thead>\n",
       "  <tbody>\n",
       "    <tr>\n",
       "      <th>0</th>\n",
       "      <td>apple</td>\n",
       "      <td>1</td>\n",
       "      <td>True</td>\n",
       "      <td>spring</td>\n",
       "      <td>Unknown</td>\n",
       "    </tr>\n",
       "    <tr>\n",
       "      <th>2</th>\n",
       "      <td>banana</td>\n",
       "      <td>3</td>\n",
       "      <td>True</td>\n",
       "      <td>summer</td>\n",
       "      <td>Unknown</td>\n",
       "    </tr>\n",
       "    <tr>\n",
       "      <th>4</th>\n",
       "      <td>blueberry</td>\n",
       "      <td>5</td>\n",
       "      <td>True</td>\n",
       "      <td>fall</td>\n",
       "      <td>Unknown</td>\n",
       "    </tr>\n",
       "    <tr>\n",
       "      <th>1</th>\n",
       "      <td>orange</td>\n",
       "      <td>2</td>\n",
       "      <td>True</td>\n",
       "      <td>fall</td>\n",
       "      <td>Unknown</td>\n",
       "    </tr>\n",
       "    <tr>\n",
       "      <th>3</th>\n",
       "      <td>strawberry</td>\n",
       "      <td>4</td>\n",
       "      <td>True</td>\n",
       "      <td>spring</td>\n",
       "      <td>Unknown</td>\n",
       "    </tr>\n",
       "  </tbody>\n",
       "</table>\n",
       "</div>"
      ],
      "text/plain": [
       "        fruit  number_of_seeds  edible  season    Color\n",
       "0       apple                1    True  spring  Unknown\n",
       "2      banana                3    True  summer  Unknown\n",
       "4   blueberry                5    True    fall  Unknown\n",
       "1      orange                2    True    fall  Unknown\n",
       "3  strawberry                4    True  spring  Unknown"
      ]
     },
     "execution_count": 87,
     "metadata": {},
     "output_type": "execute_result"
    }
   ],
   "source": [
    "new_df.sort_values(by = \"fruit\")"
   ]
  },
  {
   "cell_type": "markdown",
   "id": "b12ef246",
   "metadata": {},
   "source": [
    "Find both the index and name of the fruit with the maximum amount of seeds."
   ]
  },
  {
   "cell_type": "code",
   "execution_count": 97,
   "id": "8922af25",
   "metadata": {},
   "outputs": [
    {
     "name": "stdout",
     "output_type": "stream",
     "text": [
      "Index: 4\n",
      "Fruit: blueberry\n"
     ]
    }
   ],
   "source": [
    "max_index = new_df[\"number_of_seeds\"].idxmax()\n",
    "max_fruit = new_df.loc[max_index, \"fruit\"]\n",
    "print(\"Index:\", max_index)\n",
    "print(\"Fruit:\", max_fruit)"
   ]
  },
  {
   "cell_type": "markdown",
   "id": "569b99eb",
   "metadata": {},
   "source": [
    "Save the DataFrame to disk as a CSV file."
   ]
  },
  {
   "cell_type": "code",
   "execution_count": 99,
   "id": "f6067eb3",
   "metadata": {},
   "outputs": [],
   "source": [
    "new_df.to_csv(\"DataFrame.csv\")"
   ]
  },
  {
   "cell_type": "markdown",
   "id": "67ca5bba",
   "metadata": {},
   "source": [
    "Reload the saved CSV in a new variable."
   ]
  },
  {
   "cell_type": "code",
   "execution_count": 101,
   "id": "ce4c5448",
   "metadata": {},
   "outputs": [
    {
     "data": {
      "text/html": [
       "<div>\n",
       "<style scoped>\n",
       "    .dataframe tbody tr th:only-of-type {\n",
       "        vertical-align: middle;\n",
       "    }\n",
       "\n",
       "    .dataframe tbody tr th {\n",
       "        vertical-align: top;\n",
       "    }\n",
       "\n",
       "    .dataframe thead th {\n",
       "        text-align: right;\n",
       "    }\n",
       "</style>\n",
       "<table border=\"1\" class=\"dataframe\">\n",
       "  <thead>\n",
       "    <tr style=\"text-align: right;\">\n",
       "      <th></th>\n",
       "      <th>Unnamed: 0</th>\n",
       "      <th>fruit</th>\n",
       "      <th>number_of_seeds</th>\n",
       "      <th>edible</th>\n",
       "      <th>season</th>\n",
       "      <th>Color</th>\n",
       "    </tr>\n",
       "  </thead>\n",
       "  <tbody>\n",
       "    <tr>\n",
       "      <th>0</th>\n",
       "      <td>0</td>\n",
       "      <td>apple</td>\n",
       "      <td>1</td>\n",
       "      <td>True</td>\n",
       "      <td>spring</td>\n",
       "      <td>Unknown</td>\n",
       "    </tr>\n",
       "    <tr>\n",
       "      <th>1</th>\n",
       "      <td>1</td>\n",
       "      <td>orange</td>\n",
       "      <td>2</td>\n",
       "      <td>True</td>\n",
       "      <td>fall</td>\n",
       "      <td>Unknown</td>\n",
       "    </tr>\n",
       "    <tr>\n",
       "      <th>2</th>\n",
       "      <td>2</td>\n",
       "      <td>banana</td>\n",
       "      <td>3</td>\n",
       "      <td>True</td>\n",
       "      <td>summer</td>\n",
       "      <td>Unknown</td>\n",
       "    </tr>\n",
       "    <tr>\n",
       "      <th>3</th>\n",
       "      <td>3</td>\n",
       "      <td>strawberry</td>\n",
       "      <td>4</td>\n",
       "      <td>True</td>\n",
       "      <td>spring</td>\n",
       "      <td>Unknown</td>\n",
       "    </tr>\n",
       "    <tr>\n",
       "      <th>4</th>\n",
       "      <td>4</td>\n",
       "      <td>blueberry</td>\n",
       "      <td>5</td>\n",
       "      <td>True</td>\n",
       "      <td>fall</td>\n",
       "      <td>Unknown</td>\n",
       "    </tr>\n",
       "  </tbody>\n",
       "</table>\n",
       "</div>"
      ],
      "text/plain": [
       "   Unnamed: 0       fruit  number_of_seeds  edible  season    Color\n",
       "0           0       apple                1    True  spring  Unknown\n",
       "1           1      orange                2    True    fall  Unknown\n",
       "2           2      banana                3    True  summer  Unknown\n",
       "3           3  strawberry                4    True  spring  Unknown\n",
       "4           4   blueberry                5    True    fall  Unknown"
      ]
     },
     "execution_count": 101,
     "metadata": {},
     "output_type": "execute_result"
    }
   ],
   "source": [
    "reload_csv = pd.read_csv(\"DataFrame.csv\")\n",
    "\n",
    "reload_csv"
   ]
  }
 ],
 "metadata": {
  "kernelspec": {
   "display_name": "Python 3 (ipykernel)",
   "language": "python",
   "name": "python3"
  },
  "language_info": {
   "codemirror_mode": {
    "name": "ipython",
    "version": 3
   },
   "file_extension": ".py",
   "mimetype": "text/x-python",
   "name": "python",
   "nbconvert_exporter": "python",
   "pygments_lexer": "ipython3",
   "version": "3.9.13"
  }
 },
 "nbformat": 4,
 "nbformat_minor": 5
}
